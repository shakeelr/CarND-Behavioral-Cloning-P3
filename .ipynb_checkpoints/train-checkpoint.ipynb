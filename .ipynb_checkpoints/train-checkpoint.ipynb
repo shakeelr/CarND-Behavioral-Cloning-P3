{
 "cells": [
  {
   "cell_type": "code",
   "execution_count": 48,
   "metadata": {},
   "outputs": [
    {
     "data": {
      "text/plain": [
       "\"\\nimport csv\\nimport cv2\\nimport numpy as np\\n\\n\\nlines = []\\nwith open('./data/driving_log.csv') as csvfile:\\n    reader = csv.reader(csvfile)\\n    for line in reader:\\n        lines.append(line)\\n\\nlines.pop(0)\\n\\nimages = []\\nmeasurements = []\\nfor line in lines:\\n    source_path = line[0]\\n    filename = source_path.split('/')[-1]\\n    current_path = './data/IMG/' + filename\\n    image = cv2.imread(current_path)\\n    images.append(image)\\n    measurement = float(line[3])\\n    measurements.append(measurement)\\n    \\naugmented_images = []\\naugmented_measurements = []\\nfor image, measurement in zip(images,measurements):\\n    augmented_images.append(image)\\n    augmented_measurements.append(measurement)\\n    augmented_images.append(cv2.flip(image,1))\\n    augmented_measurements.append(measurement*-1.0)\\n    \\nX_data = np.array(augmented_images)\\nY_data = np.array(augmented_measurements)\\n\""
      ]
     },
     "execution_count": 48,
     "metadata": {},
     "output_type": "execute_result"
    }
   ],
   "source": [
    "\"\"\"\n",
    "import csv\n",
    "import cv2\n",
    "import numpy as np\n",
    "\n",
    "\n",
    "lines = []\n",
    "with open('./data/driving_log.csv') as csvfile:\n",
    "    reader = csv.reader(csvfile)\n",
    "    for line in reader:\n",
    "        lines.append(line)\n",
    "\n",
    "lines.pop(0)\n",
    "\n",
    "images = []\n",
    "measurements = []\n",
    "for line in lines:\n",
    "    source_path = line[0]\n",
    "    filename = source_path.split('/')[-1]\n",
    "    current_path = './data/IMG/' + filename\n",
    "    image = cv2.imread(current_path)\n",
    "    images.append(image)\n",
    "    measurement = float(line[3])\n",
    "    measurements.append(measurement)\n",
    "    \n",
    "augmented_images = []\n",
    "augmented_measurements = []\n",
    "for image, measurement in zip(images,measurements):\n",
    "    augmented_images.append(image)\n",
    "    augmented_measurements.append(measurement)\n",
    "    augmented_images.append(cv2.flip(image,1))\n",
    "    augmented_measurements.append(measurement*-1.0)\n",
    "    \n",
    "X_data = np.array(augmented_images)\n",
    "Y_data = np.array(augmented_measurements)\n",
    "\"\"\""
   ]
  },
  {
   "cell_type": "code",
   "execution_count": 61,
   "metadata": {},
   "outputs": [],
   "source": [
    "import sklearn\n",
    "import csv\n",
    "import cv2\n",
    "import numpy as np\n",
    "\n",
    "\n",
    "samples = []\n",
    "with open('./data/driving_log.csv') as csvfile:\n",
    "    reader = csv.reader(csvfile)\n",
    "    for line in reader:\n",
    "        samples.append(line)\n",
    "\n",
    "samples.pop(0)\n",
    "\n",
    "def generator(samples, batch_size=64):\n",
    "    num_samples = len(samples)\n",
    "    while 1: # Loop forever so the generator never terminates\n",
    "        sklearn.utils.shuffle(samples)\n",
    "        for offset in range(0, num_samples, batch_size):\n",
    "            batch_samples = samples[offset:offset+batch_size]\n",
    "            images = []\n",
    "            angles = []\n",
    "            for batch_sample in batch_samples:\n",
    "                name = './data/IMG/'+batch_sample[0].split('/')[-1]\n",
    "                center_image = cv2.imread(name)\n",
    "                center_angle = float(batch_sample[3])\n",
    "                images.append(center_image)\n",
    "                angles.append(center_angle)\n",
    "                images.append(cv2.flip(image,1))\n",
    "                angles.append(measurement*-1.0)\n",
    "\n",
    "            X_train = np.array(images)\n",
    "            y_train = np.array(angles)\n",
    "            yield sklearn.utils.shuffle(X_train, y_train)"
   ]
  },
  {
   "cell_type": "code",
   "execution_count": 62,
   "metadata": {},
   "outputs": [],
   "source": [
    "from sklearn.model_selection import train_test_split\n",
    "\n",
    "train_samples, valid_samples = train_test_split(samples, test_size=0.2)\n",
    "train_generator = generator(train_samples, batch_size=256)\n",
    "valid_generator = generator(valid_samples, batch_size=256)"
   ]
  },
  {
   "cell_type": "code",
   "execution_count": 63,
   "metadata": {},
   "outputs": [],
   "source": [
    "#import matplotlib.pyplot as plt\n",
    "#plt.imshow(images[0])\n",
    "#print(np.shape(X_train[0]))"
   ]
  },
  {
   "cell_type": "code",
   "execution_count": 64,
   "metadata": {},
   "outputs": [
    {
     "name": "stdout",
     "output_type": "stream",
     "text": [
      "Epoch 1/3\n",
      "6144/6428 [===========================>..] - ETA: 0s - loss: 3.7364"
     ]
    },
    {
     "name": "stderr",
     "output_type": "stream",
     "text": [
      "C:\\Users\\User\\Anaconda3\\envs\\carnd-term1\\lib\\site-packages\\keras\\engine\\training.py:1569: UserWarning: Epoch comprised more than `samples_per_epoch` samples, which might affect learning results. Set `samples_per_epoch` correctly to avoid this warning.\n",
      "  warnings.warn('Epoch comprised more than '\n"
     ]
    },
    {
     "name": "stdout",
     "output_type": "stream",
     "text": [
      "6656/6428 [===============================] - 31s - loss: 3.6478 - val_loss: 0.8089\n",
      "Epoch 2/3\n",
      "6712/6428 [===============================] - 21s - loss: 0.7207 - val_loss: 0.1722\n",
      "Epoch 3/3\n",
      "6656/6428 [===============================] - 20s - loss: 0.1947 - val_loss: 0.0843\n"
     ]
    }
   ],
   "source": [
    "from keras.models import Sequential\n",
    "from keras.layers import Flatten, Dense, Lambda, Cropping2D\n",
    "from keras.layers.convolutional import Convolution2D\n",
    "from keras.layers.pooling import MaxPooling2D\n",
    "\n",
    "model = Sequential()\n",
    "model.add(Lambda(lambda x: (x / 255.0) - 0.5, input_shape=(160,320,3)))\n",
    "model.add(Cropping2D(cropping=((70,25),(0,0))))\n",
    "model.add(Flatten())\n",
    "model.add(Dense(1))\n",
    "\n",
    "model.compile(loss='mse', optimizer='adam')\n",
    "#model.fit(X_train, y_train, validation_split=0.2, shuffle=True)\n",
    "model.fit_generator(train_generator, samples_per_epoch=len(train_samples), validation_data=valid_generator, \n",
    "                    nb_val_samples=len(valid_samples), nb_epoch=3)\n",
    "\n",
    "model.save('model.h5')"
   ]
  },
  {
   "cell_type": "code",
   "execution_count": null,
   "metadata": {},
   "outputs": [],
   "source": []
  }
 ],
 "metadata": {
  "kernelspec": {
   "display_name": "Python 3",
   "language": "python",
   "name": "python3"
  },
  "language_info": {
   "codemirror_mode": {
    "name": "ipython",
    "version": 3
   },
   "file_extension": ".py",
   "mimetype": "text/x-python",
   "name": "python",
   "nbconvert_exporter": "python",
   "pygments_lexer": "ipython3",
   "version": "3.5.2"
  },
  "widgets": {
   "state": {},
   "version": "1.1.2"
  }
 },
 "nbformat": 4,
 "nbformat_minor": 2
}
