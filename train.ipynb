{
 "cells": [
  {
   "cell_type": "code",
   "execution_count": 1,
   "metadata": {},
   "outputs": [
    {
     "data": {
      "text/plain": [
       "\"\\nimport csv\\nimport cv2\\nimport numpy as np\\n\\n\\nlines = []\\nwith open('./data/driving_log.csv') as csvfile:\\n    reader = csv.reader(csvfile)\\n    for line in reader:\\n        lines.append(line)\\n\\nlines.pop(0)\\n\\nimages = []\\nmeasurements = []\\nfor line in lines:\\n    source_path = line[0]\\n    filename = source_path.split('/')[-1]\\n    current_path = './data/IMG/' + filename\\n    image = cv2.imread(current_path)\\n    images.append(image)\\n    measurement = float(line[3])\\n    measurements.append(measurement)\\n    \\naugmented_images = []\\naugmented_measurements = []\\nfor image, measurement in zip(images,measurements):\\n    augmented_images.append(image)\\n    augmented_measurements.append(measurement)\\n    augmented_images.append(cv2.flip(image,1))\\n    augmented_measurements.append(measurement*-1.0)\\n    \\nX_data = np.array(augmented_images)\\nY_data = np.array(augmented_measurements)\\n\""
      ]
     },
     "execution_count": 1,
     "metadata": {},
     "output_type": "execute_result"
    }
   ],
   "source": [
    "\"\"\"\n",
    "import csv\n",
    "import cv2\n",
    "import numpy as np\n",
    "\n",
    "\n",
    "lines = []\n",
    "with open('./data/driving_log.csv') as csvfile:\n",
    "    reader = csv.reader(csvfile)\n",
    "    for line in reader:\n",
    "        lines.append(line)\n",
    "\n",
    "lines.pop(0)\n",
    "\n",
    "images = []\n",
    "measurements = []\n",
    "for line in lines:\n",
    "    source_path = line[0]\n",
    "    filename = source_path.split('/')[-1]\n",
    "    current_path = './data/IMG/' + filename\n",
    "    image = cv2.imread(current_path)\n",
    "    images.append(image)\n",
    "    measurement = float(line[3])\n",
    "    measurements.append(measurement)\n",
    "    \n",
    "augmented_images = []\n",
    "augmented_measurements = []\n",
    "for image, measurement in zip(images,measurements):\n",
    "    augmented_images.append(image)\n",
    "    augmented_measurements.append(measurement)\n",
    "    augmented_images.append(cv2.flip(image,1))\n",
    "    augmented_measurements.append(measurement*-1.0)\n",
    "    \n",
    "X_data = np.array(augmented_images)\n",
    "Y_data = np.array(augmented_measurements)\n",
    "\"\"\""
   ]
  },
  {
   "cell_type": "code",
   "execution_count": 1,
   "metadata": {},
   "outputs": [],
   "source": [
    "import sklearn\n",
    "import csv\n",
    "import cv2\n",
    "import numpy as np\n",
    "\n",
    "\n",
    "samples = []\n",
    "with open('./data/driving_log_subsample.csv') as csvfile:\n",
    "    reader = csv.reader(csvfile)\n",
    "    for line in reader:\n",
    "        samples.append(line)\n",
    "\n",
    "samples.pop(0)\n",
    "\n",
    "def generator(samples, batch_size=64):\n",
    "    num_samples = len(samples)\n",
    "    correction = 0.2\n",
    "    while 1: # Loop forever so the generator never terminates\n",
    "        sklearn.utils.shuffle(samples)\n",
    "        for offset in range(0, num_samples, batch_size):\n",
    "            batch_samples = samples[offset:offset+batch_size]\n",
    "            images = []\n",
    "            angles = []\n",
    "            for batch_sample in batch_samples:\n",
    "                center_name = './data/IMG/'+batch_sample[0].split('/')[-1]\n",
    "                left_name = './data/IMG/'+batch_sample[1].split('/')[-1]\n",
    "                right_name = './data/IMG/'+batch_sample[2].split('/')[-1]\n",
    "                center_image = cv2.imread(center_name)\n",
    "                left_image = cv2.imread(left_name)\n",
    "                right_image = cv2.imread(right_name)\n",
    "                center_angle = float(batch_sample[3])\n",
    "                left_angle = center_angle + correction\n",
    "                right_angle = center_angle - correction\n",
    "                images.append(center_image)\n",
    "                angles.append(center_angle)\n",
    "                images.append(cv2.flip(center_image,1))\n",
    "                angles.append(center_angle*-1.0)\n",
    "                images.append(left_image)\n",
    "                angles.append(left_angle)\n",
    "                images.append(cv2.flip(left_image,1))\n",
    "                angles.append(left_angle*-1.0)                \n",
    "                images.append(right_image)\n",
    "                angles.append(right_angle)\n",
    "                images.append(cv2.flip(right_image,1))\n",
    "                angles.append(right_angle*-1.0)\n",
    "\n",
    "            X_train = np.array(images)\n",
    "            y_train = np.array(angles)\n",
    "            yield sklearn.utils.shuffle(X_train, y_train)"
   ]
  },
  {
   "cell_type": "code",
   "execution_count": 2,
   "metadata": {},
   "outputs": [],
   "source": [
    "from sklearn.model_selection import train_test_split\n",
    "\n",
    "train_samples, valid_samples = train_test_split(samples, test_size=0.2)\n",
    "train_generator = generator(train_samples, batch_size=512)\n",
    "valid_generator = generator(valid_samples, batch_size=512)"
   ]
  },
  {
   "cell_type": "code",
   "execution_count": 3,
   "metadata": {},
   "outputs": [],
   "source": [
    "#import matplotlib.pyplot as plt\n",
    "#plt.imshow(images[0])\n",
    "#print(np.shape(X_train[0]))\n",
    "#print(list(train_generator))"
   ]
  },
  {
   "cell_type": "code",
   "execution_count": 4,
   "metadata": {},
   "outputs": [
    {
     "name": "stderr",
     "output_type": "stream",
     "text": [
      "Using TensorFlow backend.\n"
     ]
    },
    {
     "name": "stdout",
     "output_type": "stream",
     "text": [
      "Epoch 1/3\n",
      "19752/19752 [==============================] - 1322s - loss: 0.3539 - val_loss: 0.0661\n",
      "Epoch 2/3\n",
      "19752/19752 [==============================] - 1294s - loss: 0.0436 - val_loss: 0.0634\n",
      "Epoch 3/3\n",
      "19752/19752 [==============================] - 1327s - loss: 0.0300 - val_loss: 0.0584\n"
     ]
    }
   ],
   "source": [
    "from keras.models import Sequential\n",
    "from keras.layers import Flatten, Dense, Lambda, Cropping2D, BatchNormalization, Activation\n",
    "from keras.layers.convolutional import Convolution2D\n",
    "from keras.layers.pooling import MaxPooling2D\n",
    "\n",
    "model = Sequential()\n",
    "\n",
    "model.add(Lambda(lambda x: (x / 255.0) - 0.5, input_shape=(160,320,3)))\n",
    "model.add(Cropping2D(cropping=((70,25),(0,0))))\n",
    "\n",
    "model.add(Convolution2D(24,5,5,subsample=(2,2)))\n",
    "model.add(BatchNormalization())\n",
    "model.add(Activation('relu'))\n",
    "\n",
    "model.add(Convolution2D(36,5,5,subsample=(2,2)))\n",
    "model.add(BatchNormalization())\n",
    "model.add(Activation('relu'))\n",
    "\n",
    "model.add(Convolution2D(48,5,5,subsample=(2,2)))\n",
    "model.add(BatchNormalization())\n",
    "model.add(Activation('relu'))\n",
    "\n",
    "model.add(Convolution2D(64,3,3))\n",
    "model.add(BatchNormalization())\n",
    "model.add(Activation('relu'))\n",
    "\n",
    "model.add(Convolution2D(64,3,3))\n",
    "model.add(BatchNormalization())\n",
    "model.add(Activation('relu'))\n",
    "\n",
    "model.add(Flatten())\n",
    "\n",
    "model.add(Dense(100))\n",
    "model.add(BatchNormalization())\n",
    "model.add(Activation('relu'))\n",
    "\n",
    "model.add(Dense(50))\n",
    "model.add(BatchNormalization())\n",
    "model.add(Activation('relu'))\n",
    "\n",
    "model.add(Dense(10))\n",
    "model.add(BatchNormalization())\n",
    "model.add(Activation('relu'))\n",
    "\n",
    "model.add(Dense(1))\n",
    "\n",
    "model.compile(loss='mse', optimizer='adam')\n",
    "#model.fit(X_train, y_train, validation_split=0.2, shuffle=True)\n",
    "model.fit_generator(train_generator, samples_per_epoch=len(train_samples)*6, validation_data=valid_generator, \n",
    "                    nb_val_samples=len(valid_samples)*6, nb_epoch=3)\n",
    "\n",
    "model.save('model.h5')"
   ]
  },
  {
   "cell_type": "code",
   "execution_count": null,
   "metadata": {},
   "outputs": [],
   "source": []
  },
  {
   "cell_type": "code",
   "execution_count": null,
   "metadata": {},
   "outputs": [],
   "source": []
  }
 ],
 "metadata": {
  "kernelspec": {
   "display_name": "Python 3",
   "language": "python",
   "name": "python3"
  },
  "language_info": {
   "codemirror_mode": {
    "name": "ipython",
    "version": 3
   },
   "file_extension": ".py",
   "mimetype": "text/x-python",
   "name": "python",
   "nbconvert_exporter": "python",
   "pygments_lexer": "ipython3",
   "version": "3.5.2"
  },
  "widgets": {
   "state": {},
   "version": "1.1.2"
  }
 },
 "nbformat": 4,
 "nbformat_minor": 2
}
